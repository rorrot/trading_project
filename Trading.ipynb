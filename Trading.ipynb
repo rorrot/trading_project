{
 "cells": [
  {
   "cell_type": "markdown",
   "metadata": {},
   "source": [
    "# Trading Project"
   ]
  },
  {
   "cell_type": "markdown",
   "metadata": {},
   "source": [
    "- Using yahoo api to get the price from different companies"
   ]
  },
  {
   "cell_type": "code",
   "execution_count": 1,
   "metadata": {},
   "outputs": [],
   "source": [
    "import yfinance as yf\n",
    "import pandas as pd\n",
    "import matplotlib.pyplot as plt\n",
    "import os\n",
    "import datetime"
   ]
  },
  {
   "cell_type": "code",
   "execution_count": 2,
   "metadata": {
    "scrolled": true
   },
   "outputs": [
    {
     "data": {
      "text/html": [
       "<div>\n",
       "<style scoped>\n",
       "    .dataframe tbody tr th:only-of-type {\n",
       "        vertical-align: middle;\n",
       "    }\n",
       "\n",
       "    .dataframe tbody tr th {\n",
       "        vertical-align: top;\n",
       "    }\n",
       "\n",
       "    .dataframe thead th {\n",
       "        text-align: right;\n",
       "    }\n",
       "</style>\n",
       "<table border=\"1\" class=\"dataframe\">\n",
       "  <thead>\n",
       "    <tr style=\"text-align: right;\">\n",
       "      <th></th>\n",
       "      <th>Firm</th>\n",
       "      <th>To Grade</th>\n",
       "      <th>From Grade</th>\n",
       "      <th>Action</th>\n",
       "    </tr>\n",
       "    <tr>\n",
       "      <th>Date</th>\n",
       "      <th></th>\n",
       "      <th></th>\n",
       "      <th></th>\n",
       "      <th></th>\n",
       "    </tr>\n",
       "  </thead>\n",
       "  <tbody>\n",
       "    <tr>\n",
       "      <td>2012-02-09 08:17:00</td>\n",
       "      <td>Canaccord Genuity</td>\n",
       "      <td>Buy</td>\n",
       "      <td></td>\n",
       "      <td>main</td>\n",
       "    </tr>\n",
       "    <tr>\n",
       "      <td>2012-03-08 07:33:00</td>\n",
       "      <td>FBN Securities</td>\n",
       "      <td>Outperform</td>\n",
       "      <td></td>\n",
       "      <td>main</td>\n",
       "    </tr>\n",
       "    <tr>\n",
       "      <td>2012-03-13 06:08:00</td>\n",
       "      <td>Jefferies</td>\n",
       "      <td>Buy</td>\n",
       "      <td></td>\n",
       "      <td>main</td>\n",
       "    </tr>\n",
       "    <tr>\n",
       "      <td>2012-03-14 06:13:00</td>\n",
       "      <td>Morgan Stanley</td>\n",
       "      <td>Overweight</td>\n",
       "      <td></td>\n",
       "      <td>main</td>\n",
       "    </tr>\n",
       "    <tr>\n",
       "      <td>2012-03-14 08:21:00</td>\n",
       "      <td>Canaccord Genuity</td>\n",
       "      <td>Buy</td>\n",
       "      <td></td>\n",
       "      <td>main</td>\n",
       "    </tr>\n",
       "    <tr>\n",
       "      <td>...</td>\n",
       "      <td>...</td>\n",
       "      <td>...</td>\n",
       "      <td>...</td>\n",
       "      <td>...</td>\n",
       "    </tr>\n",
       "    <tr>\n",
       "      <td>2020-09-23 09:28:49</td>\n",
       "      <td>FBN Securities</td>\n",
       "      <td>Outperform</td>\n",
       "      <td></td>\n",
       "      <td>main</td>\n",
       "    </tr>\n",
       "    <tr>\n",
       "      <td>2020-09-23 09:30:06</td>\n",
       "      <td>FBR Capital</td>\n",
       "      <td>Outperform</td>\n",
       "      <td></td>\n",
       "      <td>main</td>\n",
       "    </tr>\n",
       "    <tr>\n",
       "      <td>2020-09-23 09:31:25</td>\n",
       "      <td>JMP Securities</td>\n",
       "      <td>Outperform</td>\n",
       "      <td></td>\n",
       "      <td>main</td>\n",
       "    </tr>\n",
       "    <tr>\n",
       "      <td>2020-09-23 09:32:35</td>\n",
       "      <td>Pacific Crest</td>\n",
       "      <td>Sector Weight</td>\n",
       "      <td>Overweight</td>\n",
       "      <td>down</td>\n",
       "    </tr>\n",
       "    <tr>\n",
       "      <td>2020-09-24 00:10:26</td>\n",
       "      <td>Wedbush</td>\n",
       "      <td>Outperform</td>\n",
       "      <td></td>\n",
       "      <td>main</td>\n",
       "    </tr>\n",
       "  </tbody>\n",
       "</table>\n",
       "<p>806 rows × 4 columns</p>\n",
       "</div>"
      ],
      "text/plain": [
       "                                  Firm       To Grade  From Grade Action\n",
       "Date                                                                    \n",
       "2012-02-09 08:17:00  Canaccord Genuity            Buy               main\n",
       "2012-03-08 07:33:00     FBN Securities     Outperform               main\n",
       "2012-03-13 06:08:00          Jefferies            Buy               main\n",
       "2012-03-14 06:13:00     Morgan Stanley     Overweight               main\n",
       "2012-03-14 08:21:00  Canaccord Genuity            Buy               main\n",
       "...                                ...            ...         ...    ...\n",
       "2020-09-23 09:28:49     FBN Securities     Outperform               main\n",
       "2020-09-23 09:30:06        FBR Capital     Outperform               main\n",
       "2020-09-23 09:31:25     JMP Securities     Outperform               main\n",
       "2020-09-23 09:32:35      Pacific Crest  Sector Weight  Overweight   down\n",
       "2020-09-24 00:10:26            Wedbush     Outperform               main\n",
       "\n",
       "[806 rows x 4 columns]"
      ]
     },
     "execution_count": 2,
     "metadata": {},
     "output_type": "execute_result"
    }
   ],
   "source": [
    "tickerSymbol = \"AAPL\"\n",
    "tickerData = yf.Ticker(tickerSymbol)\n",
    "apple = tickerData.history(period='1d', start='2010-1-1', end= datetime.datetime.now().date())\n",
    "tickerData.recommendations"
   ]
  },
  {
   "cell_type": "code",
   "execution_count": null,
   "metadata": {},
   "outputs": [],
   "source": []
  },
  {
   "cell_type": "code",
   "execution_count": 3,
   "metadata": {},
   "outputs": [],
   "source": [
    "import datetime\n",
    "\n",
    "start_sp = datetime.datetime(2010, 1, 1)\n",
    "end_sp = datetime.datetime.now().date()"
   ]
  },
  {
   "cell_type": "code",
   "execution_count": 4,
   "metadata": {},
   "outputs": [
    {
     "name": "stdout",
     "output_type": "stream",
     "text": [
      "[*********************100%***********************]  1 of 1 completed\n"
     ]
    },
    {
     "data": {
      "text/html": [
       "<div>\n",
       "<style scoped>\n",
       "    .dataframe tbody tr th:only-of-type {\n",
       "        vertical-align: middle;\n",
       "    }\n",
       "\n",
       "    .dataframe tbody tr th {\n",
       "        vertical-align: top;\n",
       "    }\n",
       "\n",
       "    .dataframe thead th {\n",
       "        text-align: right;\n",
       "    }\n",
       "</style>\n",
       "<table border=\"1\" class=\"dataframe\">\n",
       "  <thead>\n",
       "    <tr style=\"text-align: right;\">\n",
       "      <th></th>\n",
       "      <th>Open</th>\n",
       "      <th>High</th>\n",
       "      <th>Low</th>\n",
       "      <th>Close</th>\n",
       "      <th>Adj Close</th>\n",
       "      <th>Volume</th>\n",
       "    </tr>\n",
       "    <tr>\n",
       "      <th>Date</th>\n",
       "      <th></th>\n",
       "      <th></th>\n",
       "      <th></th>\n",
       "      <th></th>\n",
       "      <th></th>\n",
       "      <th></th>\n",
       "    </tr>\n",
       "  </thead>\n",
       "  <tbody>\n",
       "    <tr>\n",
       "      <td>2020-09-17</td>\n",
       "      <td>333.559998</td>\n",
       "      <td>337.700012</td>\n",
       "      <td>332.989990</td>\n",
       "      <td>335.839996</td>\n",
       "      <td>334.501007</td>\n",
       "      <td>91523300</td>\n",
       "    </tr>\n",
       "    <tr>\n",
       "      <td>2020-09-18</td>\n",
       "      <td>335.369995</td>\n",
       "      <td>335.489990</td>\n",
       "      <td>327.970001</td>\n",
       "      <td>330.649994</td>\n",
       "      <td>330.649994</td>\n",
       "      <td>105877900</td>\n",
       "    </tr>\n",
       "    <tr>\n",
       "      <td>2020-09-21</td>\n",
       "      <td>325.700012</td>\n",
       "      <td>327.130005</td>\n",
       "      <td>321.730011</td>\n",
       "      <td>326.970001</td>\n",
       "      <td>326.970001</td>\n",
       "      <td>99450800</td>\n",
       "    </tr>\n",
       "    <tr>\n",
       "      <td>2020-09-22</td>\n",
       "      <td>328.570007</td>\n",
       "      <td>330.899994</td>\n",
       "      <td>325.859985</td>\n",
       "      <td>330.299988</td>\n",
       "      <td>330.299988</td>\n",
       "      <td>63612100</td>\n",
       "    </tr>\n",
       "    <tr>\n",
       "      <td>2020-09-23</td>\n",
       "      <td>330.899994</td>\n",
       "      <td>331.200012</td>\n",
       "      <td>322.100006</td>\n",
       "      <td>322.640015</td>\n",
       "      <td>322.640015</td>\n",
       "      <td>92542900</td>\n",
       "    </tr>\n",
       "  </tbody>\n",
       "</table>\n",
       "</div>"
      ],
      "text/plain": [
       "                  Open        High         Low       Close   Adj Close  \\\n",
       "Date                                                                     \n",
       "2020-09-17  333.559998  337.700012  332.989990  335.839996  334.501007   \n",
       "2020-09-18  335.369995  335.489990  327.970001  330.649994  330.649994   \n",
       "2020-09-21  325.700012  327.130005  321.730011  326.970001  326.970001   \n",
       "2020-09-22  328.570007  330.899994  325.859985  330.299988  330.299988   \n",
       "2020-09-23  330.899994  331.200012  322.100006  322.640015  322.640015   \n",
       "\n",
       "               Volume  \n",
       "Date                   \n",
       "2020-09-17   91523300  \n",
       "2020-09-18  105877900  \n",
       "2020-09-21   99450800  \n",
       "2020-09-22   63612100  \n",
       "2020-09-23   92542900  "
      ]
     },
     "execution_count": 4,
     "metadata": {},
     "output_type": "execute_result"
    }
   ],
   "source": [
    "from pandas_datareader import data as pdr\n",
    "#import fix_yahoo_finance as yf\n",
    "yf.pdr_override() # <== that's all it takes :-)\n",
    "SP500 = pdr.get_data_yahoo('SPY', start_sp, end_sp)\n",
    "    \n",
    "SP500.tail()"
   ]
  },
  {
   "cell_type": "code",
   "execution_count": 5,
   "metadata": {},
   "outputs": [
    {
     "data": {
      "text/plain": [
       "2701"
      ]
     },
     "execution_count": 5,
     "metadata": {},
     "output_type": "execute_result"
    }
   ],
   "source": [
    "len(SP500)#2689"
   ]
  },
  {
   "cell_type": "markdown",
   "metadata": {},
   "source": [
    "### Using Mongodb"
   ]
  },
  {
   "cell_type": "code",
   "execution_count": 6,
   "metadata": {},
   "outputs": [],
   "source": [
    "import pymongo\n",
    "from pymongo import MongoClient"
   ]
  },
  {
   "cell_type": "code",
   "execution_count": 7,
   "metadata": {},
   "outputs": [],
   "source": [
    "myclient = MongoClient(\"mongodb://localhost:27017/\")\n",
    "mydb = myclient[\"Stocks\"]\n",
    "mycol = mydb[\"Tickers\"]"
   ]
  },
  {
   "cell_type": "code",
   "execution_count": 8,
   "metadata": {},
   "outputs": [
    {
     "data": {
      "text/plain": [
       "<pymongo.results.InsertOneResult at 0x24574131688>"
      ]
     },
     "execution_count": 8,
     "metadata": {},
     "output_type": "execute_result"
    }
   ],
   "source": [
    "# Step 2: Insert Data into DB\n",
    "SP500.reset_index(inplace=True) # Reset Index\n",
    "data_dict = SP500.to_dict(\"records\") # Convert to dictionary\n",
    "mycol.insert_one({\"Index\":\"SPY\",\"data\":data_dict}) # inesrt into DB"
   ]
  },
  {
   "cell_type": "markdown",
   "metadata": {},
   "source": [
    "### Get data from DB"
   ]
  },
  {
   "cell_type": "code",
   "execution_count": 9,
   "metadata": {},
   "outputs": [],
   "source": [
    "# Step 3: Get data from DB\n",
    "data_from_db = mycol.find_one({\"symbol\":\"FB\"})\n",
    "FB = pd.DataFrame(data_from_db[\"data\"])\n",
    "FB.set_index(\"Date\",inplace=True)"
   ]
  },
  {
   "cell_type": "code",
   "execution_count": 10,
   "metadata": {},
   "outputs": [],
   "source": [
    "#AMZN.to_csv('AMZN.csv')\n",
    "#AAPL.to_csv('AAPL.csv')\n",
    "#GOOG.to_csv('GOOG.csv')\n",
    "#TSLA.to_csv('TSLA.csv')\n",
    "#MSFT.to_csv('MSFT.csv')\n",
    "#SPY.to_csv('SPY.csv')\n",
    "#FB.to_csv('FB.csv')"
   ]
  },
  {
   "cell_type": "code",
   "execution_count": null,
   "metadata": {},
   "outputs": [],
   "source": []
  },
  {
   "cell_type": "code",
   "execution_count": 11,
   "metadata": {},
   "outputs": [
    {
     "data": {
      "image/png": "[encoded data removed]",
      "text/plain": [
       "<Figure size 432x288 with 1 Axes>"
      ]
     },
     "metadata": {
      "needs_background": "light"
     },
     "output_type": "display_data"
    },
    {
     "name": "stdout",
     "output_type": "stream",
     "text": [
      "SPY      54.403965\n",
      "GOOG    315.596611\n",
      "TSLA     53.110601\n",
      "MSFT     47.614139\n",
      "FB       59.147332\n",
      "AMZN    724.673347\n",
      "AAPL     20.206789\n",
      "dtype: float64\n"
     ]
    }
   ],
   "source": [
    "def plot_selected(df1, columns, start_index, end_index):\n",
    "    plot_data(df1.loc[start_index:end_index, columns], title=\"Selected data\")\n",
    "    \n",
    "\n",
    "def symbol_to_path(symbol, base_dir='data'):\n",
    "    return os.path.join(base_dir, \"{}.csv\".format(str(symbol)))\n",
    "\n",
    "def get_data(symbols, dates):\n",
    "    \n",
    "    df1 = pd.DataFrame(index=dates)\n",
    "    if 'SPY' not in symbols:\n",
    "        symbols.insert(0, 'SPY')\n",
    "        \n",
    "    for symbol in symbols:\n",
    "        df_temp = pd.read_csv(symbol_to_path(symbol), index_col='Date', parse_dates=True,\n",
    "                             usecols=['Date', 'Adj Close'], na_values=['nan'])\n",
    "        \n",
    "        df_temp = df_temp.rename(columns={'Adj Close': symbol})\n",
    "        df1 = df1.join(df_temp)\n",
    "        if symbol == 'SPY':\n",
    "            df1 = df1.dropna(subset=['SPY'])\n",
    "    return df1\n",
    "\n",
    "def normalize_data(df1):\n",
    "    return df1 / df1.loc[0,:]\n",
    "\n",
    "def plot_data(df1, title = \"Stock prices\"):\n",
    "        ax = df1.plot(title=title, fontsize=12)\n",
    "        ax.set_xlabel(\"Date\")\n",
    "        ax.set_ylabel(\"Price\")\n",
    "        plt.show()\n",
    "        \n",
    "def test_run():\n",
    "    dates = pd.date_range('2013-01-01', '2020-09-07')\n",
    "    symbols = ['GOOG', 'TSLA', 'MSFT', 'FB', 'AMZN', \"AAPL\"]\n",
    "    #Get stock data\n",
    "    df1 = get_data(symbols, dates)\n",
    "    \n",
    "    plot_selected(df1, [\"SPY\", \"AAPL\", \"GOOG\", \"FB\", \"AMZN\", \"TSLA\"], \"2020-01-02\", \"2020-09-04\")\n",
    "    \n",
    "    print(df1.std())\n",
    "    \n",
    "   \n",
    "    \n",
    "if __name__ == \"__main__\":\n",
    "    test_run()"
   ]
  },
  {
   "cell_type": "code",
   "execution_count": 12,
   "metadata": {},
   "outputs": [
    {
     "data": {
      "image/png": "[encoded data removed]",
      "text/plain": [
       "<Figure size 432x288 with 1 Axes>"
      ]
     },
     "metadata": {
      "needs_background": "light"
     },
     "output_type": "display_data"
    },
    {
     "data": {
      "image/png": "[encoded data removed]",
      "text/plain": [
       "<Figure size 432x288 with 1 Axes>"
      ]
     },
     "metadata": {
      "needs_background": "light"
     },
     "output_type": "display_data"
    }
   ],
   "source": [
    "#def plot_selected(df1, columns, start_index, end_index):\n",
    "  #  plot_data(df1.loc[start_index:end_index, columns], title=\"Selected data\")\n",
    "    \n",
    "\n",
    "def symbol_to_path(symbol, base_dir='data'):\n",
    "    return os.path.join(base_dir, \"{}.csv\".format(str(symbol)))\n",
    "\n",
    "def get_data(symbols, dates):\n",
    "    \n",
    "    df1 = pd.DataFrame(index=dates)\n",
    "    if 'SPY' not in symbols:\n",
    "        symbols.insert(0, 'SPY')\n",
    "        \n",
    "    for symbol in symbols:\n",
    "        df_temp = pd.read_csv(symbol_to_path(symbol), index_col='Date', parse_dates=True,\n",
    "                             usecols=['Date', 'Adj Close'], na_values=['nan'])\n",
    "        \n",
    "        df_temp = df_temp.rename(columns={'Adj Close': symbol})\n",
    "        df1 = df1.join(df_temp)\n",
    "        if symbol == 'SPY':\n",
    "            df1 = df1.dropna(subset=['SPY'])\n",
    "    return df1\n",
    "\n",
    "def plot_data(df1, title = \"Stock prices\", xlabel=\"Date\", ylabel=\"Price\"):\n",
    "        ax = df1.plot(title=title, fontsize=12)\n",
    "        ax.set_xlabel(xlabel)\n",
    "        ax.set_ylabel(ylabel)\n",
    "        plt.show()\n",
    "        \n",
    "def compute_daily_returns(df1):\n",
    "    daily_returns = df1.copy()\n",
    "    \n",
    "    daily_returns[1:] = (df1[1:] / df1[:-1].values) - 1\n",
    "    daily_returns.iloc[0, :] = 0\n",
    "    return daily_returns\n",
    "        \n",
    "def test_run():\n",
    "    dates = pd.date_range('2020-08-01', '2020-08-30')\n",
    "    symbols = ['SPY', 'AAPL']\n",
    "    #Get stock data\n",
    "    df1 = get_data(symbols, dates)\n",
    "    plot_data(df1)\n",
    "    \n",
    "    daily_returns = compute_daily_returns(df1)\n",
    "    plot_data(daily_returns, title=\"Daily returns\", ylabel=\"Daily returns\")\n",
    "    \n",
    "   \n",
    "    \n",
    "if __name__ == \"__main__\":\n",
    "    test_run()"
   ]
  },
  {
   "cell_type": "code",
   "execution_count": 13,
   "metadata": {},
   "outputs": [],
   "source": [
    "start_date = '2012-06-01' #2010, 1, 1\n",
    "end_date = datetime.datetime.now().date()#'2020-09-07'\n",
    "dates = pd.date_range(start_date, end_date)\n",
    "    #print(dates[0])\n",
    "df1 = pd.DataFrame(index=dates)#empy dataframe\n",
    "    #print(df1)\n",
    "dfSPY = pd.read_csv('data/SPY.csv', index_col=\"Date\", parse_dates=True, usecols=['Date', 'Adj Close'],\n",
    "                    na_values=['nan'])\n",
    "dfSPY = dfSPY.rename(columns={'Adj Close': 'SPY'})\n",
    "    #print(dfSPY)\n",
    "df1 = df1.join(dfSPY, how = 'inner')\n",
    "df1 = df1.dropna()\n",
    "    #print(df1)\n",
    "    \n",
    "symbols = ['GOOG', 'TSLA', 'MSFT', 'FB', 'AMZN', 'AAPL']\n",
    "for symbol in symbols:\n",
    "    df_temp = pd.read_csv(\"data/{}.csv\".format(symbol), index_col='Date', parse_dates=True,\n",
    "                          usecols=['Date', 'Adj Close'], na_values=['nan'])\n",
    "    df_temp = df_temp.rename(columns={'Adj Close': symbol})\n",
    "    df1 = df1.join(df_temp)\n",
    "    "
   ]
  },
  {
   "cell_type": "code",
   "execution_count": 14,
   "metadata": {},
   "outputs": [
    {
     "data": {
      "text/html": [
       "<div>\n",
       "<style scoped>\n",
       "    .dataframe tbody tr th:only-of-type {\n",
       "        vertical-align: middle;\n",
       "    }\n",
       "\n",
       "    .dataframe tbody tr th {\n",
       "        vertical-align: top;\n",
       "    }\n",
       "\n",
       "    .dataframe thead th {\n",
       "        text-align: right;\n",
       "    }\n",
       "</style>\n",
       "<table border=\"1\" class=\"dataframe\">\n",
       "  <thead>\n",
       "    <tr style=\"text-align: right;\">\n",
       "      <th></th>\n",
       "      <th>SPY</th>\n",
       "      <th>GOOG</th>\n",
       "      <th>TSLA</th>\n",
       "      <th>MSFT</th>\n",
       "      <th>FB</th>\n",
       "      <th>AMZN</th>\n",
       "      <th>AAPL</th>\n",
       "    </tr>\n",
       "  </thead>\n",
       "  <tbody>\n",
       "    <tr>\n",
       "      <td>2020-08-31</td>\n",
       "      <td>349.309998</td>\n",
       "      <td>1634.180054</td>\n",
       "      <td>498.320007</td>\n",
       "      <td>225.529999</td>\n",
       "      <td>293.200012</td>\n",
       "      <td>3450.959961</td>\n",
       "      <td>129.039993</td>\n",
       "    </tr>\n",
       "    <tr>\n",
       "      <td>2020-09-01</td>\n",
       "      <td>352.600006</td>\n",
       "      <td>1660.709961</td>\n",
       "      <td>475.049988</td>\n",
       "      <td>227.270004</td>\n",
       "      <td>295.440002</td>\n",
       "      <td>3499.120117</td>\n",
       "      <td>134.179993</td>\n",
       "    </tr>\n",
       "    <tr>\n",
       "      <td>2020-09-02</td>\n",
       "      <td>357.700012</td>\n",
       "      <td>1728.280029</td>\n",
       "      <td>447.369995</td>\n",
       "      <td>231.649994</td>\n",
       "      <td>302.500000</td>\n",
       "      <td>3531.449951</td>\n",
       "      <td>131.399994</td>\n",
       "    </tr>\n",
       "    <tr>\n",
       "      <td>2020-09-03</td>\n",
       "      <td>345.390015</td>\n",
       "      <td>1641.839966</td>\n",
       "      <td>407.000000</td>\n",
       "      <td>217.300003</td>\n",
       "      <td>291.119995</td>\n",
       "      <td>3368.000000</td>\n",
       "      <td>120.879997</td>\n",
       "    </tr>\n",
       "    <tr>\n",
       "      <td>2020-09-04</td>\n",
       "      <td>342.570007</td>\n",
       "      <td>1591.040039</td>\n",
       "      <td>418.320007</td>\n",
       "      <td>214.250000</td>\n",
       "      <td>282.730011</td>\n",
       "      <td>3294.620117</td>\n",
       "      <td>120.959999</td>\n",
       "    </tr>\n",
       "  </tbody>\n",
       "</table>\n",
       "</div>"
      ],
      "text/plain": [
       "                   SPY         GOOG        TSLA        MSFT          FB  \\\n",
       "2020-08-31  349.309998  1634.180054  498.320007  225.529999  293.200012   \n",
       "2020-09-01  352.600006  1660.709961  475.049988  227.270004  295.440002   \n",
       "2020-09-02  357.700012  1728.280029  447.369995  231.649994  302.500000   \n",
       "2020-09-03  345.390015  1641.839966  407.000000  217.300003  291.119995   \n",
       "2020-09-04  342.570007  1591.040039  418.320007  214.250000  282.730011   \n",
       "\n",
       "                   AMZN        AAPL  \n",
       "2020-08-31  3450.959961  129.039993  \n",
       "2020-09-01  3499.120117  134.179993  \n",
       "2020-09-02  3531.449951  131.399994  \n",
       "2020-09-03  3368.000000  120.879997  \n",
       "2020-09-04  3294.620117  120.959999  "
      ]
     },
     "execution_count": 14,
     "metadata": {},
     "output_type": "execute_result"
    }
   ],
   "source": [
    "df1.tail()"
   ]
  },
  {
   "cell_type": "code",
   "execution_count": 15,
   "metadata": {},
   "outputs": [],
   "source": [
    "df = df1.copy()"
   ]
  },
  {
   "cell_type": "markdown",
   "metadata": {},
   "source": [
    "### Model"
   ]
  },
  {
   "cell_type": "code",
   "execution_count": 16,
   "metadata": {},
   "outputs": [],
   "source": [
    "import math\n",
    "import numpy as np\n",
    "from sklearn.preprocessing import MinMaxScaler\n",
    "from tensorflow.keras.models import Sequential\n",
    "from tensorflow.keras.layers import Dense, LSTM"
   ]
  },
  {
   "cell_type": "code",
   "execution_count": 17,
   "metadata": {},
   "outputs": [
    {
     "data": {
      "text/plain": [
       "(2080, 7)"
      ]
     },
     "execution_count": 17,
     "metadata": {},
     "output_type": "execute_result"
    }
   ],
   "source": [
    "df.shape"
   ]
  },
  {
   "cell_type": "code",
   "execution_count": 18,
   "metadata": {},
   "outputs": [
    {
     "data": {
      "text/plain": [
       "1664"
      ]
     },
     "execution_count": 18,
     "metadata": {},
     "output_type": "execute_result"
    }
   ],
   "source": [
    "data = df.filter(['GOOG'])\n",
    "dataset = data.values #convert to nparray\n",
    "training_data_len = math.ceil(len(dataset) * .8)\n",
    "training_data_len"
   ]
  },
  {
   "cell_type": "code",
   "execution_count": 19,
   "metadata": {},
   "outputs": [
    {
     "name": "stdout",
     "output_type": "stream",
     "text": [
      "[array([0.00409902, 0.0067137 , 0.00390317, 0.007394  , 0.00659002,\n",
      "       0.00735279, 0.00324691, 0.0020787 , 0.00070093, 0.        ,\n",
      "       0.001876  , 0.00405435, 0.00772385, 0.00634264, 0.00211651,\n",
      "       0.0042708 , 0.00056693, 0.00193441, 0.00352178, 0.00180727,\n",
      "       0.00722222, 0.00735965, 0.00988846, 0.01266809, 0.00925282,\n",
      "       0.00926314, 0.00778226, 0.00417115, 0.00392721, 0.00600248,\n",
      "       0.00545275, 0.00607464, 0.0074593 , 0.01168541, 0.01778754,\n",
      "       0.01939897, 0.01667089, 0.01681518, 0.01866026, 0.02608175,\n",
      "       0.0251678 , 0.025398  , 0.02529837, 0.02394807, 0.0282704 ,\n",
      "       0.02878234, 0.02799896, 0.02857961, 0.02862085, 0.02850059,\n",
      "       0.03468861, 0.03766065, 0.03727583, 0.03910716, 0.04057427,\n",
      "       0.04002454, 0.03795269, 0.04058801, 0.04045744, 0.04108621])]\n",
      "[0.03785304606316087]\n",
      "\n"
     ]
    }
   ],
   "source": [
    "scaler = MinMaxScaler(feature_range=(0,1))\n",
    "scaled_data = scaler.fit_transform(dataset)\n",
    "#scaled_data\n",
    "#training dataset\n",
    "train_data = scaled_data[0: training_data_len, :]\n",
    "#split the data\n",
    "x_train = []\n",
    "y_train = []\n",
    "\n",
    "for i in range(60, len(train_data)):\n",
    "    x_train.append(train_data[i-60 : i, 0])\n",
    "    y_train.append(train_data[i, 0])\n",
    "    if i <= 60:\n",
    "        print(x_train)\n",
    "        print(y_train)\n",
    "        print()"
   ]
  },
  {
   "cell_type": "code",
   "execution_count": 20,
   "metadata": {},
   "outputs": [],
   "source": [
    "#conver x_train and y_train to nparray\n",
    "x_train, y_train = np.array(x_train), np.array(y_train)"
   ]
  },
  {
   "cell_type": "code",
   "execution_count": 21,
   "metadata": {},
   "outputs": [
    {
     "data": {
      "text/plain": [
       "(1604, 60, 1)"
      ]
     },
     "execution_count": 21,
     "metadata": {},
     "output_type": "execute_result"
    }
   ],
   "source": [
    "#Reshape the data\n",
    "x_train = np.reshape(x_train, (x_train.shape[0], x_train.shape[1], 1))\n",
    "x_train.shape"
   ]
  },
  {
   "cell_type": "code",
   "execution_count": 22,
   "metadata": {},
   "outputs": [],
   "source": [
    "# LSTM Model\n",
    "model = Sequential()\n",
    "model.add(LSTM(50, return_sequences=True, input_shape=(x_train.shape[1], 1)))\n",
    "model.add(LSTM(50, return_sequences=False))\n",
    "model.add(Dense(25))\n",
    "model.add(Dense(1))"
   ]
  },
  {
   "cell_type": "code",
   "execution_count": 23,
   "metadata": {},
   "outputs": [],
   "source": [
    "#compile the model\n",
    "model.compile(optimizer=\"adam\", loss=\"mean_squared_error\")"
   ]
  },
  {
   "cell_type": "code",
   "execution_count": 24,
   "metadata": {},
   "outputs": [
    {
     "name": "stdout",
     "output_type": "stream",
     "text": [
      "Train on 1604 samples\n",
      "WARNING:tensorflow:Entity <function Function._initialize_uninitialized_variables.<locals>.initialize_variables at 0x0000024506884EE8> could not be transformed and will be executed as-is. Please report this to the AutoGraph team. When filing the bug, set the verbosity to 10 (on Linux, `export AUTOGRAPH_VERBOSITY=10`) and attach the full output. Cause: module 'gast' has no attribute 'Num'\n",
      "WARNING: Entity <function Function._initialize_uninitialized_variables.<locals>.initialize_variables at 0x0000024506884EE8> could not be transformed and will be executed as-is. Please report this to the AutoGraph team. When filing the bug, set the verbosity to 10 (on Linux, `export AUTOGRAPH_VERBOSITY=10`) and attach the full output. Cause: module 'gast' has no attribute 'Num'\n",
      "1604/1604 [==============================] - 105s 65ms/sample - loss: 8.4710e-04\n"
     ]
    },
    {
     "data": {
      "text/plain": [
       "<tensorflow.python.keras.callbacks.History at 0x245067f54c8>"
      ]
     },
     "execution_count": 24,
     "metadata": {},
     "output_type": "execute_result"
    }
   ],
   "source": [
    "#train the model\n",
    "model.fit(x_train, y_train, batch_size=1, epochs=1)"
   ]
  },
  {
   "cell_type": "code",
   "execution_count": 25,
   "metadata": {},
   "outputs": [],
   "source": [
    "#creat testing data set\n",
    "test_data = scaled_data[training_data_len - 60:, :]\n",
    "#create x_test, y_test\n",
    "x_test = []\n",
    "y_test = dataset[training_data_len:, :]\n",
    "for i in range(60, len(test_data)):\n",
    "    x_test.append(test_data[i-60: i, 0])\n"
   ]
  },
  {
   "cell_type": "code",
   "execution_count": 26,
   "metadata": {},
   "outputs": [
    {
     "data": {
      "text/plain": [
       "(416, 60, 1)"
      ]
     },
     "execution_count": 26,
     "metadata": {},
     "output_type": "execute_result"
    }
   ],
   "source": [
    "#convert data to nparray\n",
    "x_test = np.array(x_test)\n",
    "#reshape\n",
    "x_test = np.reshape(x_test, (x_test.shape[0], x_test.shape[1], 1))\n",
    "x_test.shape"
   ]
  },
  {
   "cell_type": "code",
   "execution_count": 27,
   "metadata": {},
   "outputs": [],
   "source": [
    "#models predicted price values\n",
    "predictions = model.predict(x_test)\n",
    "predictions = scaler.inverse_transform(predictions)"
   ]
  },
  {
   "cell_type": "code",
   "execution_count": 28,
   "metadata": {},
   "outputs": [
    {
     "data": {
      "text/plain": [
       "2.052108764648437"
      ]
     },
     "execution_count": 28,
     "metadata": {},
     "output_type": "execute_result"
    }
   ],
   "source": [
    "# get the RMSE\n",
    "rmse = np.sqrt(np.mean(predictions - y_test)**2)\n",
    "rmse"
   ]
  },
  {
   "cell_type": "code",
   "execution_count": 29,
   "metadata": {},
   "outputs": [
    {
     "name": "stderr",
     "output_type": "stream",
     "text": [
      "C:\\Users\\utilisateur\\Anaconda3\\lib\\site-packages\\ipykernel_launcher.py:4: SettingWithCopyWarning: \n",
      "A value is trying to be set on a copy of a slice from a DataFrame.\n",
      "Try using .loc[row_indexer,col_indexer] = value instead\n",
      "\n",
      "See the caveats in the documentation: http://pandas.pydata.org/pandas-docs/stable/user_guide/indexing.html#returning-a-view-versus-a-copy\n",
      "  after removing the cwd from sys.path.\n"
     ]
    },
    {
     "data": {
      "image/png": "[encoded data removed]",
      "text/plain": [
       "<Figure size 1152x576 with 1 Axes>"
      ]
     },
     "metadata": {
      "needs_background": "light"
     },
     "output_type": "display_data"
    }
   ],
   "source": [
    "#plot\n",
    "train = df[:training_data_len]\n",
    "valid = df[training_data_len:]\n",
    "valid['Predictions'] = predictions\n",
    "plt.figure(figsize=(16,8))\n",
    "plt.title('Model')\n",
    "plt.xlabel('Date', fontsize=18)\n",
    "plt.ylabel('Adj Close Price GOOG USD ($)', fontsize=18)\n",
    "plt.plot(train['GOOG'])\n",
    "plt.plot(valid[['GOOG', 'Predictions']])\n",
    "plt.legend(['Train', 'Valid', 'Predictions'], loc='lower right')\n",
    "plt.show()"
   ]
  },
  {
   "cell_type": "code",
   "execution_count": 30,
   "metadata": {},
   "outputs": [
    {
     "data": {
      "text/html": [
       "<div>\n",
       "<style scoped>\n",
       "    .dataframe tbody tr th:only-of-type {\n",
       "        vertical-align: middle;\n",
       "    }\n",
       "\n",
       "    .dataframe tbody tr th {\n",
       "        vertical-align: top;\n",
       "    }\n",
       "\n",
       "    .dataframe thead th {\n",
       "        text-align: right;\n",
       "    }\n",
       "</style>\n",
       "<table border=\"1\" class=\"dataframe\">\n",
       "  <thead>\n",
       "    <tr style=\"text-align: right;\">\n",
       "      <th></th>\n",
       "      <th>SPY</th>\n",
       "      <th>GOOG</th>\n",
       "      <th>TSLA</th>\n",
       "      <th>MSFT</th>\n",
       "      <th>FB</th>\n",
       "      <th>AMZN</th>\n",
       "      <th>AAPL</th>\n",
       "      <th>Predictions</th>\n",
       "    </tr>\n",
       "  </thead>\n",
       "  <tbody>\n",
       "    <tr>\n",
       "      <td>2019-01-14</td>\n",
       "      <td>250.039413</td>\n",
       "      <td>1044.689941</td>\n",
       "      <td>66.879997</td>\n",
       "      <td>99.769432</td>\n",
       "      <td>145.389999</td>\n",
       "      <td>1617.209961</td>\n",
       "      <td>36.691772</td>\n",
       "      <td>1077.103516</td>\n",
       "    </tr>\n",
       "    <tr>\n",
       "      <td>2019-01-15</td>\n",
       "      <td>252.905075</td>\n",
       "      <td>1077.150024</td>\n",
       "      <td>68.886002</td>\n",
       "      <td>102.663292</td>\n",
       "      <td>148.949997</td>\n",
       "      <td>1674.560059</td>\n",
       "      <td>37.442734</td>\n",
       "      <td>1076.076050</td>\n",
       "    </tr>\n",
       "    <tr>\n",
       "      <td>2019-01-16</td>\n",
       "      <td>253.517014</td>\n",
       "      <td>1080.969971</td>\n",
       "      <td>69.209999</td>\n",
       "      <td>103.025009</td>\n",
       "      <td>147.539993</td>\n",
       "      <td>1683.780029</td>\n",
       "      <td>37.900158</td>\n",
       "      <td>1077.667480</td>\n",
       "    </tr>\n",
       "    <tr>\n",
       "      <td>2019-01-17</td>\n",
       "      <td>255.440445</td>\n",
       "      <td>1089.900024</td>\n",
       "      <td>69.461998</td>\n",
       "      <td>103.748474</td>\n",
       "      <td>148.300003</td>\n",
       "      <td>1693.219971</td>\n",
       "      <td>38.125195</td>\n",
       "      <td>1080.513794</td>\n",
       "    </tr>\n",
       "    <tr>\n",
       "      <td>2019-01-18</td>\n",
       "      <td>258.840332</td>\n",
       "      <td>1098.260010</td>\n",
       "      <td>60.452000</td>\n",
       "      <td>105.302940</td>\n",
       "      <td>150.039993</td>\n",
       "      <td>1696.199951</td>\n",
       "      <td>38.360023</td>\n",
       "      <td>1084.718994</td>\n",
       "    </tr>\n",
       "    <tr>\n",
       "      <td>...</td>\n",
       "      <td>...</td>\n",
       "      <td>...</td>\n",
       "      <td>...</td>\n",
       "      <td>...</td>\n",
       "      <td>...</td>\n",
       "      <td>...</td>\n",
       "      <td>...</td>\n",
       "      <td>...</td>\n",
       "    </tr>\n",
       "    <tr>\n",
       "      <td>2020-08-31</td>\n",
       "      <td>349.309998</td>\n",
       "      <td>1634.180054</td>\n",
       "      <td>498.320007</td>\n",
       "      <td>225.529999</td>\n",
       "      <td>293.200012</td>\n",
       "      <td>3450.959961</td>\n",
       "      <td>129.039993</td>\n",
       "      <td>1597.682983</td>\n",
       "    </tr>\n",
       "    <tr>\n",
       "      <td>2020-09-01</td>\n",
       "      <td>352.600006</td>\n",
       "      <td>1660.709961</td>\n",
       "      <td>475.049988</td>\n",
       "      <td>227.270004</td>\n",
       "      <td>295.440002</td>\n",
       "      <td>3499.120117</td>\n",
       "      <td>134.179993</td>\n",
       "      <td>1605.448242</td>\n",
       "    </tr>\n",
       "    <tr>\n",
       "      <td>2020-09-02</td>\n",
       "      <td>357.700012</td>\n",
       "      <td>1728.280029</td>\n",
       "      <td>447.369995</td>\n",
       "      <td>231.649994</td>\n",
       "      <td>302.500000</td>\n",
       "      <td>3531.449951</td>\n",
       "      <td>131.399994</td>\n",
       "      <td>1614.193726</td>\n",
       "    </tr>\n",
       "    <tr>\n",
       "      <td>2020-09-03</td>\n",
       "      <td>345.390015</td>\n",
       "      <td>1641.839966</td>\n",
       "      <td>407.000000</td>\n",
       "      <td>217.300003</td>\n",
       "      <td>291.119995</td>\n",
       "      <td>3368.000000</td>\n",
       "      <td>120.879997</td>\n",
       "      <td>1630.518066</td>\n",
       "    </tr>\n",
       "    <tr>\n",
       "      <td>2020-09-04</td>\n",
       "      <td>342.570007</td>\n",
       "      <td>1591.040039</td>\n",
       "      <td>418.320007</td>\n",
       "      <td>214.250000</td>\n",
       "      <td>282.730011</td>\n",
       "      <td>3294.620117</td>\n",
       "      <td>120.959999</td>\n",
       "      <td>1636.028320</td>\n",
       "    </tr>\n",
       "  </tbody>\n",
       "</table>\n",
       "<p>416 rows × 8 columns</p>\n",
       "</div>"
      ],
      "text/plain": [
       "                   SPY         GOOG        TSLA        MSFT          FB  \\\n",
       "2019-01-14  250.039413  1044.689941   66.879997   99.769432  145.389999   \n",
       "2019-01-15  252.905075  1077.150024   68.886002  102.663292  148.949997   \n",
       "2019-01-16  253.517014  1080.969971   69.209999  103.025009  147.539993   \n",
       "2019-01-17  255.440445  1089.900024   69.461998  103.748474  148.300003   \n",
       "2019-01-18  258.840332  1098.260010   60.452000  105.302940  150.039993   \n",
       "...                ...          ...         ...         ...         ...   \n",
       "2020-08-31  349.309998  1634.180054  498.320007  225.529999  293.200012   \n",
       "2020-09-01  352.600006  1660.709961  475.049988  227.270004  295.440002   \n",
       "2020-09-02  357.700012  1728.280029  447.369995  231.649994  302.500000   \n",
       "2020-09-03  345.390015  1641.839966  407.000000  217.300003  291.119995   \n",
       "2020-09-04  342.570007  1591.040039  418.320007  214.250000  282.730011   \n",
       "\n",
       "                   AMZN        AAPL  Predictions  \n",
       "2019-01-14  1617.209961   36.691772  1077.103516  \n",
       "2019-01-15  1674.560059   37.442734  1076.076050  \n",
       "2019-01-16  1683.780029   37.900158  1077.667480  \n",
       "2019-01-17  1693.219971   38.125195  1080.513794  \n",
       "2019-01-18  1696.199951   38.360023  1084.718994  \n",
       "...                 ...         ...          ...  \n",
       "2020-08-31  3450.959961  129.039993  1597.682983  \n",
       "2020-09-01  3499.120117  134.179993  1605.448242  \n",
       "2020-09-02  3531.449951  131.399994  1614.193726  \n",
       "2020-09-03  3368.000000  120.879997  1630.518066  \n",
       "2020-09-04  3294.620117  120.959999  1636.028320  \n",
       "\n",
       "[416 rows x 8 columns]"
      ]
     },
     "execution_count": 30,
     "metadata": {},
     "output_type": "execute_result"
    }
   ],
   "source": [
    "#show valid and predicted prices\n",
    "valid"
   ]
  },
  {
   "cell_type": "code",
   "execution_count": 47,
   "metadata": {},
   "outputs": [
    {
     "name": "stdout",
     "output_type": "stream",
     "text": [
      "[*********************100%***********************]  1 of 1 completed\n",
      "[[2719.0325]]\n"
     ]
    }
   ],
   "source": [
    "tick_pred = pdr.get_data_yahoo('AMZN', start=\"2010-01-01\", end=datetime.datetime.now().date())#\"2020-09-25\")#start_sp, end_sp)\n",
    "n_df = tick_pred.filter(['Close'])\n",
    "last_60_days = n_df[-60:].values\n",
    "last_60_days_scaled = scaler.transform(last_60_days)\n",
    "X_test = []\n",
    "X_test.append(last_60_days_scaled)\n",
    "X_test = np.array(X_test)\n",
    "X_test = np.reshape(X_test, (X_test.shape[0], X_test.shape[1], 1))\n",
    "pred_price = model.predict(X_test)\n",
    "pred_price = scaler.inverse_transform(pred_price)\n",
    "print(pred_price)"
   ]
  },
  {
   "cell_type": "code",
   "execution_count": 48,
   "metadata": {},
   "outputs": [
    {
     "name": "stdout",
     "output_type": "stream",
     "text": [
      "[*********************100%***********************]  1 of 1 completed\n",
      "Date\n",
      "2020-09-23    2999.860107\n",
      "2020-09-24    3029.600098\n",
      "Name: Close, dtype: float64\n"
     ]
    }
   ],
   "source": [
    "tick_pred = pdr.get_data_yahoo('AMZN', start=\"2020-09-24\", end=datetime.datetime.now().date())#end_sp)\n",
    "print(apple_pred['Close'])"
   ]
  },
  {
   "cell_type": "code",
   "execution_count": 49,
   "metadata": {},
   "outputs": [],
   "source": [
    "mydb = myclient[\"Tick_Pred\"]\n",
    "mycol = mydb[\"Tick_Pred\"]"
   ]
  },
  {
   "cell_type": "code",
   "execution_count": 50,
   "metadata": {},
   "outputs": [
    {
     "data": {
      "text/plain": [
       "<pymongo.results.InsertOneResult at 0x245131a5488>"
      ]
     },
     "execution_count": 50,
     "metadata": {},
     "output_type": "execute_result"
    }
   ],
   "source": [
    "tick_pred.reset_index(inplace=True) # Reset Index\n",
    "data_dict = tick_pred.to_dict(\"records\") # Convert to dictionary\n",
    "mycol.insert_one({\"Index\":\"Tick_Pred\",\"data\":data_dict}) # inesrt into DB"
   ]
  },
  {
   "cell_type": "code",
   "execution_count": 41,
   "metadata": {},
   "outputs": [],
   "source": [
    "#adding a title and an image\n",
    "st.write(\"\"\"\n",
    "# Stock Market Application\n",
    "Visually show data on stock! Date from....\n",
    "\"\"\")\n",
    "\n",
    "image = Image.open(\"stock.jpg\")\n",
    "st.image(image, use_column_width=True)\n",
    "\n",
    "#sidebar header\n",
    "st.sidebar.header('User Imput')\n",
    "\n",
    "#funtion to get the users input\n",
    "def get_input():\n",
    "   \n",
    "    start_date = st.sidebar.text_input(\"Start Date\", \"2020-08-01\")\n",
    "    end_date = st.sidebar.text_input(\"Etart Date\", \"2020-09-04\")\n",
    "    stock_symbol = st.sidebar.text_input(\"Stock Symbol\", \"GOOG\")\n",
    "    return start_date, end_date, stock_symbol\n",
    "\n",
    "#function to get the company name\n",
    "def get_comp_name(symbol):\n",
    "    if symbol == \"AMZN\":\n",
    "        return 'Amazon'\n",
    "    elif symbol == \"AAPL\":\n",
    "        return 'Appel'\n",
    "    elif symbol == \"GOOG\":\n",
    "        return 'Alphabet'\n",
    "    elif symbol == \"TSLA\":\n",
    "        return \"Tesla\"\n",
    "    elif symbol == \"MSFT\":\n",
    "        return \"Microsoft\"\n",
    "    elif symbol == \"FB\":\n",
    "        return \"FaceBook\"\n",
    "    else: \n",
    "        \"None\"\n",
    "        \n",
    "#function to get the companies time frame\n",
    "def get_data(symbol, start, end):\n",
    "    \n",
    "    #load data\n",
    "    if symbol.upper() == \"AMZN\":\n",
    "        df = pd.read_csv('data/AMZN.csv')\n",
    "    elif symbol.upper() == \"GOOG\":\n",
    "        df = pd.read_csv('data/GOOG.csv')\n",
    "    elif symbol.upper() == \"TSLA\":\n",
    "        df = pd.read_csv('data/TSLA.csv')\n",
    "    elif symbol.upper() == \"MSFT\":\n",
    "        df = pd.read_csv('data/MSFT.csv')\n",
    "    elif symbol.upper() == \"FB\":\n",
    "        df = pd.read_csv('data/FB.csv') \n",
    "    elif symbol.upper() == \"AAPL\":\n",
    "        df = pd.read_csv('data/AAPL.csv')\n",
    "        \n",
    "\n",
    "    #get the date range\n",
    "    start = pd.to_datetime(start)\n",
    "    end = pd.to_datetime(end)\n",
    "\n",
    "    #set start and end index\n",
    "    start_row = 0\n",
    "    end_row = 0\n",
    "\n",
    "    #start the date from the top of the dataset\n",
    "    for i in range(0, len(df)):\n",
    "        if start <= pd.to_datetime(df['Date'][i]):\n",
    "            start_row = i\n",
    "            break\n",
    "            \n",
    "    #start from the bottom of the dataset\n",
    "    for j in range(0, len(df)):\n",
    "        if end >= pd.to_datetime(df['Date'][len(df)-1-j]):\n",
    "            end_row = len(df) - 1 - j\n",
    "            break\n",
    "            \n",
    "    #set index to the date\n",
    "    df = df.set_index(pd.DatetimeIndex(df['Date'].values))\n",
    "    \n",
    "    return df.iloc[start_row: end_row +1, :]\n",
    "\n",
    "#get users input\n",
    "start, end, symbol = get_input()\n",
    "#get date\n",
    "df = get_data(symbol, start, end)\n",
    "#get the company name\n",
    "company_name = get_comp_name(symbol.upper())\n",
    "\n",
    "#dispaly the Adj Close price\n",
    "st.header(company_name+\"Adj Close Price\\n\")\n",
    "st.line_chart(df['Adj Close'])\n",
    "\n",
    "#dispaly the Volume\n",
    "st.header(company_name+\"Volume\\n\")\n",
    "st.line_chart(df['Volume'])\n",
    "\n",
    "#get statistics \n",
    "st.header('Data Statistics')\n",
    "st.write(df.describe())\n",
    "\n",
    "algo = st.sidebar.text_input('predictions')"
   ]
  },
  {
   "cell_type": "code",
   "execution_count": null,
   "metadata": {},
   "outputs": [],
   "source": []
  },
  {
   "cell_type": "code",
   "execution_count": null,
   "metadata": {},
   "outputs": [],
   "source": []
  },
  {
   "cell_type": "code",
   "execution_count": null,
   "metadata": {},
   "outputs": [],
   "source": []
  },
  {
   "cell_type": "code",
   "execution_count": null,
   "metadata": {},
   "outputs": [],
   "source": []
  },
  {
   "cell_type": "code",
   "execution_count": null,
   "metadata": {},
   "outputs": [],
   "source": []
  },
  {
   "cell_type": "code",
   "execution_count": null,
   "metadata": {},
   "outputs": [],
   "source": []
  },
  {
   "cell_type": "code",
   "execution_count": null,
   "metadata": {},
   "outputs": [],
   "source": []
  },
  {
   "cell_type": "code",
   "execution_count": null,
   "metadata": {},
   "outputs": [],
   "source": []
  },
  {
   "cell_type": "code",
   "execution_count": null,
   "metadata": {},
   "outputs": [],
   "source": []
  },
  {
   "cell_type": "code",
   "execution_count": null,
   "metadata": {},
   "outputs": [],
   "source": []
  },
  {
   "cell_type": "code",
   "execution_count": null,
   "metadata": {},
   "outputs": [],
   "source": []
  },
  {
   "cell_type": "code",
   "execution_count": null,
   "metadata": {},
   "outputs": [],
   "source": []
  },
  {
   "cell_type": "code",
   "execution_count": null,
   "metadata": {},
   "outputs": [],
   "source": []
  },
  {
   "cell_type": "code",
   "execution_count": null,
   "metadata": {},
   "outputs": [],
   "source": []
  },
  {
   "cell_type": "code",
   "execution_count": null,
   "metadata": {},
   "outputs": [],
   "source": []
  },
  {
   "cell_type": "code",
   "execution_count": null,
   "metadata": {},
   "outputs": [],
   "source": []
  },
  {
   "cell_type": "code",
   "execution_count": null,
   "metadata": {},
   "outputs": [],
   "source": []
  },
  {
   "cell_type": "code",
   "execution_count": null,
   "metadata": {},
   "outputs": [],
   "source": []
  },
  {
   "cell_type": "code",
   "execution_count": null,
   "metadata": {},
   "outputs": [],
   "source": []
  }
 ],
 "metadata": {
  "kernelspec": {
   "display_name": "Python 3",
   "language": "python",
   "name": "python3"
  },
  "language_info": {
   "codemirror_mode": {
    "name": "ipython",
    "version": 3
   },
   "file_extension": ".py",
   "mimetype": "text/x-python",
   "name": "python",
   "nbconvert_exporter": "python",
   "pygments_lexer": "ipython3",
   "version": "3.7.4"
  }
 },
 "nbformat": 4,
 "nbformat_minor": 2
}
